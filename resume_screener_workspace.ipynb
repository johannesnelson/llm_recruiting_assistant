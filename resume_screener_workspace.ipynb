{
 "cells": [
  {
   "cell_type": "code",
   "execution_count": 1,
   "id": "4a1aa6db-b088-4e9c-be0f-5d2dd415ce85",
   "metadata": {},
   "outputs": [],
   "source": [
    "import openai\n",
    "from dotenv import load_dotenv, find_dotenv\n",
    "from langchain_openai import ChatOpenAI\n",
    "from langchain.prompts import ChatPromptTemplate\n",
    "from langchain.callbacks import get_openai_callback\n",
    "import pandas as pd\n",
    "from langchain.output_parsers import ResponseSchema\n",
    "from langchain.output_parsers import StructuredOutputParser\n",
    "from json.decoder import JSONDecodeError\n",
    "import pypdf\n",
    "from langchain_community.document_loaders import PyPDFLoader, Docx2txtLoader\n",
    "import os\n",
    "from dotenv import load_dotenv, find_dotenv\n",
    "from langchain.callbacks import get_openai_callback\n"
   ]
  },
  {
   "cell_type": "code",
   "execution_count": 2,
   "id": "9d1a4d61-985c-4390-8c47-8de9e78e0497",
   "metadata": {},
   "outputs": [],
   "source": [
    "def prepare_LLM(llm_model = \"gpt-3.5-turbo\"):\n",
    "    llm_model = llm_model\n",
    "    chat = ChatOpenAI(temperature=0.0, model=llm_model)\n",
    "    return chat\n"
   ]
  },
  {
   "cell_type": "code",
   "execution_count": 4,
   "id": "26fb54af-18a6-442c-88da-5143e970a7f0",
   "metadata": {},
   "outputs": [],
   "source": [
    "load_dotenv()\n",
    "api_key = os.environ.get(\"OPENAI_API_KEY\")\n",
    "\n"
   ]
  },
  {
   "cell_type": "code",
   "execution_count": 21,
   "id": "2a136c11-e692-46a8-9a92-fe9771e0ce67",
   "metadata": {},
   "outputs": [],
   "source": [
    "loader = PyPDFLoader(\"test_folder/Resume (1).pdf\")\n",
    "resume = loader.load_and_split()\n",
    "\n"
   ]
  },
  {
   "cell_type": "code",
   "execution_count": 21,
   "id": "aadb5863-eaf8-405f-9b46-16cec4011bbe",
   "metadata": {},
   "outputs": [],
   "source": [
    "loader = Docx2txtLoader(\"resume_doctest.docx\")\n",
    "resume = loader.load()"
   ]
  },
  {
   "cell_type": "code",
   "execution_count": 15,
   "id": "5efbd185-88c9-4ee8-921b-09f9b2c5fe75",
   "metadata": {},
   "outputs": [
    {
     "data": {
      "text/plain": [
       "[Document(page_content='Josue Martinez\\n\\nNew Jersey, NJ | 201-969-7937 | Josuelm070@gmail.com\\n\\nhttps://www.linkedin.com/in/josue-martinez1/\\n\\n\\n\\nSUMMARY \\n\\nHighly motivated, strategic-minded, and results-driven Business Development Specialist and Acquisitions Specialist with versatile Residential Real Estate underwriting, marketing, and client relationship management expertise. Experienced in high-load, stress, and deadline-driven environments. Proven capacity to utilize superb communication skills along with a stellar ability to quickly build rapport with team members and clients and efficiently partake in a firm’s operation working towards growth, continuous improvement, organizational enhancement, and overall success.\\n\\nRELEVANT EXPERIENCE \\n\\nLeverage Companies, Newark, NJ \\t\\t\\t\\t\\t         03/2023 - 08/2023\\n\\nBusiness Development Consultant\\n\\nDrove over $500,000 in expansion revenue with our new agent outreach strategy.\\n\\nDeveloped processes for lead generation leading to a projected 30% year over year revenue growth.\\n\\nExperimented with messaging to new potential sellers, increasing conversion rate by 150%.\\n\\nCold called and emailed more than 100 B2B leads per day to generate new relationships within the North Jersey market and created long lasting business relationships.\\n\\nKeyGlee, Newark, NJ \\t\\t\\t\\t\\t\\t\\t            03/2022 - 03/2023\\n\\nDirector of Acquisitions and Dispositions\\n\\nUtilized strong communication skills to initiate negotiations with seller’s.\\n\\nMaintained investor database by adding new clients and managing existing relationships\\n\\nConducted market analysis on all residential acquisitions to provide accurate information to all investor clients. \\n\\nAchieved or exceeded weekly and monthly  KPI targets, enhancing overall business success. \\n\\nNetworked with agents to increase overall deal volume.\\n\\n\\n\\nThe Carbon Group, Edgewater, NJ \\t\\t\\t\\t\\t\\t09/2021  – 03/2022\\n\\nAcquisitions Specialist \\n\\nUnderwrote all residential acquisitions to provide accurate investment information to stakeholders, investors, and clients.  \\n\\nUtilized strong communication skills with sellers, buyers, and internal stakeholders to understand investment criteria, timelines, and budgeting.\\n\\n\\t\\tSuccessfully completed 20+ wholesale transactions with an average fee of $21.9K.\\n\\n\\t\\tManaged 3 fix and flip transactions with an average gross profit of $95K.\\n\\n\\t\\tContributed to $7.5M+ in gross deal volume.\\n\\n\\n\\nSKILLS & TECHNOLOGY\\n\\nTechnology: CRMs (Podio, FollowUpBoss, Close), Slack / Google Workspace / Microsoft Office Suite (Word, Excel, Powerpoint), SmarterContact (Marketing), Propstream (Asset Research).\\n\\nSkills: Negotiation, Underwriting, Spreadsheet Modeling, Fluent in English/Spanish.', metadata={'source': 'resume_doctest.docx'})]"
      ]
     },
     "execution_count": 15,
     "metadata": {},
     "output_type": "execute_result"
    }
   ],
   "source": []
  },
  {
   "cell_type": "code",
   "execution_count": 18,
   "id": "49aa78f3-b34f-43a6-94a9-73ebc9b1f021",
   "metadata": {},
   "outputs": [],
   "source": [
    "chat = prepare_LLM()"
   ]
  },
  {
   "cell_type": "code",
   "execution_count": null,
   "id": "5c518b1e-7da6-498f-9a2b-ee7995642bf3",
   "metadata": {},
   "outputs": [],
   "source": []
  },
  {
   "cell_type": "code",
   "execution_count": 30,
   "id": "3a348f63-fe2f-4cc9-b41a-f8ae810886d1",
   "metadata": {},
   "outputs": [],
   "source": [
    "def prepare_template_string():\n",
    "    \n",
    "    template_string = \"\"\"\n",
    "    You are acting as a recruiting assistant. Your job is to carefully scan resumes and \\\n",
    "    identify the best candidates for the role. In order to do this, you will first need to \\\n",
    "    understand the job description, the required skills/experience, and the desired \\\n",
    "    skills\\experience. You will be asked to first extract relevant information from each resume, \\\n",
    "    and then to rank the candidates fit on a scale from 1 - 10. \n",
    " \n",
    "    \n",
    "    The job description, desired level of education, and desired skills/experience are delineated \\\n",
    "    by the triple backticks below. The candidate resume will be provided after this, and format instructions \\\n",
    "    will also be provided.\n",
    "    \n",
    "    ``` \n",
    "    Job description: {job_description}, Desired education level: {desired_education}, Desired experience: {desired_experience}, Desired skills: {desired_skills}\n",
    "    ```\n",
    "    \n",
    "    Candidate resume: {resume}\n",
    "    \n",
    "    {format_instructions}\n",
    "    \"\"\"\n",
    "    return template_string"
   ]
  },
  {
   "cell_type": "code",
   "execution_count": 9,
   "id": "d2c64318-5de0-4583-8c76-0e9e8ddffe1a",
   "metadata": {},
   "outputs": [],
   "source": [
    "def prepare_chat_schemas():\n",
    "    \n",
    "    candidate_name = ResponseSchema(name=\"name\",\n",
    "                                     description=\"Simply state the name of the candidate.\"\n",
    "                                    )\n",
    "    candidate_contact = ResponseSchema(name=\"contact\",\n",
    "                                     description=\"Simply copy the candidate's email address here.\"\n",
    "                                    )        \n",
    "    relevant_experience = ResponseSchema(name=\"relevant_experience\",\n",
    "                                     description=\"Based upon the job description, please extract any relevant experience from the resume and \"\n",
    "                                     \"state it here. This experience should be relevant to the job description and the desired experience/skills. \"\n",
    "                                    )\n",
    "    relevant_skills = ResponseSchema(name=\"relevant_skills\",\n",
    "                                     description=\"Based upon the job description, please extract any relevant skills from the resume and \"\n",
    "                                     \"state it here. These skills should be relevant to the job description and the desired experience/skills.\"\n",
    "                                     )\n",
    "    \n",
    "    \n",
    "    relevant_education = ResponseSchema(name=\"relevant_education\",\n",
    "                                     description= \"Based upon the job description, please extract information about relevant education from the resume and \"\n",
    "                                     \"state it here. This information about education should be relevant to the job description and the desired level of education.\")\n",
    "    \n",
    "    \n",
    "    candidate_score = ResponseSchema(name=\"candidate_score\",\n",
    "                                          description=\"Here, you will rate the candidate on a scale from 1 - 10--with a 10 being a perfect fit (matches desired  \"\n",
    "                                          \" perfectly). This should be a single number response only.\")\n",
    "    \n",
    "    score_justification = ResponseSchema(name=\"score_justification\",\n",
    "                                          description=\"Here, you will justify your score, highlighting specific parts of the information that you extracted to \"\n",
    "                                          \" make your case. This should be a brief, 1 - 5 sentence description for why this score was assigned that cites specific \"\n",
    "                                          \" attributes from the candidate resume and the job description/desired qualifications.\")\n",
    "    \n",
    "    response_schemas = [candidate_name,\n",
    "                        candidate_contact,\n",
    "                        relevant_experience, \n",
    "                        relevant_skills,\n",
    "                        relevant_education,\n",
    "                        candidate_score,\n",
    "                        score_justification]\n",
    "    output_parser = StructuredOutputParser.from_response_schemas(response_schemas)\n",
    "    format_instructions = output_parser.get_format_instructions()\n",
    "    return response_schemas, output_parser, format_instructions\n"
   ]
  },
  {
   "cell_type": "code",
   "execution_count": 31,
   "id": "4a364e88-227d-417f-91cf-bcef7662bc1d",
   "metadata": {},
   "outputs": [],
   "source": [
    "template_string = prepare_template_string()"
   ]
  },
  {
   "cell_type": "code",
   "execution_count": 11,
   "id": "2fd2e890-ce37-4b1a-ad5a-cecac6178db4",
   "metadata": {},
   "outputs": [],
   "source": [
    "response_schemas, output_parser, format_instructions = prepare_chat_schemas()"
   ]
  },
  {
   "cell_type": "code",
   "execution_count": 12,
   "id": "2513d6fa-08b4-4e91-84ab-6efd58502012",
   "metadata": {},
   "outputs": [],
   "source": [
    "prompt = ChatPromptTemplate.from_template(template=template_string)\n"
   ]
  },
  {
   "cell_type": "code",
   "execution_count": 29,
   "id": "b31cffcf-eccf-413b-a69f-c289535a8507",
   "metadata": {},
   "outputs": [],
   "source": [
    "desired_education = \"Not specified, but at least an undergraduate degree.\"\n",
    "desired_experience = \"The candidate should have at least two years experience in a related field.\"\n",
    "desired_skills = \"Not specified, but should be relevant to the job description\"\n",
    "job_description = \"Top Tier: Someone with technical Sales Experience + Recruiting experience + worked in school systems;  \" \\\n",
    "\"Middle Tier: Someone who has technical sales experience + worked in recruiting (but no school experience); \" \\\n",
    "\" Low Tier: Only has one of the three thing (like has sales experience but no recruiting or schools experience). \" \\\n",
    "\"For this job, there are three main areas of qualification: technical sales experience, recruiting experience, and experience \" \\\n",
    "\" in school systems.\"\n"
   ]
  },
  {
   "cell_type": "code",
   "execution_count": null,
   "id": "ecca2a3b-bf72-4a8c-99d2-70acd5a20643",
   "metadata": {},
   "outputs": [],
   "source": []
  },
  {
   "cell_type": "code",
   "execution_count": 22,
   "id": "85a4d3ae-97ec-4ced-b369-e27b7200172e",
   "metadata": {},
   "outputs": [],
   "source": [
    "messages = prompt.format_messages(resume = resume, desired_education=desired_education, desired_experience=desired_experience, job_description=job_description, format_instructions=format_instructions)"
   ]
  },
  {
   "cell_type": "code",
   "execution_count": 23,
   "id": "637a80cc-ec54-4887-b949-016ff6aa3614",
   "metadata": {},
   "outputs": [],
   "source": [
    "response = chat(messages)\n"
   ]
  },
  {
   "cell_type": "code",
   "execution_count": 24,
   "id": "70faa9ff-5cec-4b81-b8f6-076ca6db1143",
   "metadata": {},
   "outputs": [
    {
     "data": {
      "text/plain": [
       "AIMessage(content='```json\\n{\\n\\t\"name\": \"Kevin J. Grimes\",\\n\\t\"contact\": \"kjgrimes@alaska.edu\",\\n\\t\"relevant_experience\": \"University of Alaska Fairbanks Office of Admissions Communication/Foster Youth Entry Coordinator, Communication Student Assistant, Millions.co Sports Entertainment Company Key Social Monitor/Ambassador/Moderator\",\\n\\t\"relevant_skills\": \"Data entry, communication, content creation, social media management\",\\n\\t\"relevant_education\": \"University of Alaska Fairbanks, Occupational Endorsement Certificate in Supervision and Personnel Management (2023-present); University of Alaska Fairbanks, Associate’s Degree in Applied Business w/Concentration in Management (2021-present); University of Alaska Fairbanks, Bachelor of Arts in History, Minor in Communication, Class of 2022; University of Alaska Fairbanks, Occupational Endorsement Certificate in Content Creation, Class of 2022\",\\n\\t\"candidate_score\": \"7\",\\n\\t\"score_justification\": \"Kevin has relevant experience in communication, content creation, and social media management, which aligns with the desired skills/experience. He also has experience in a university setting, although not specifically in a school system. While he meets the desired education level, his experience in a related field is not specified. Overall, Kevin demonstrates a good fit for the role, but there are some areas where he falls short of the desired qualifications.\"\\n}\\n```')"
      ]
     },
     "execution_count": 24,
     "metadata": {},
     "output_type": "execute_result"
    }
   ],
   "source": [
    "response"
   ]
  },
  {
   "cell_type": "code",
   "execution_count": 25,
   "id": "e43d8cdf-e157-487c-8626-6e314e37eca4",
   "metadata": {},
   "outputs": [],
   "source": [
    "output_dict = output_parser.parse(response.content)"
   ]
  },
  {
   "cell_type": "code",
   "execution_count": 26,
   "id": "7b4bc654-20f9-4cf9-9217-2b9b700b2daa",
   "metadata": {},
   "outputs": [
    {
     "data": {
      "text/plain": [
       "{'name': 'Kevin J. Grimes',\n",
       " 'contact': 'kjgrimes@alaska.edu',\n",
       " 'relevant_experience': 'University of Alaska Fairbanks Office of Admissions Communication/Foster Youth Entry Coordinator, Communication Student Assistant, Millions.co Sports Entertainment Company Key Social Monitor/Ambassador/Moderator',\n",
       " 'relevant_skills': 'Data entry, communication, content creation, social media management',\n",
       " 'relevant_education': 'University of Alaska Fairbanks, Occupational Endorsement Certificate in Supervision and Personnel Management (2023-present); University of Alaska Fairbanks, Associate’s Degree in Applied Business w/Concentration in Management (2021-present); University of Alaska Fairbanks, Bachelor of Arts in History, Minor in Communication, Class of 2022; University of Alaska Fairbanks, Occupational Endorsement Certificate in Content Creation, Class of 2022',\n",
       " 'candidate_score': '7',\n",
       " 'score_justification': 'Kevin has relevant experience in communication, content creation, and social media management, which aligns with the desired skills/experience. He also has experience in a university setting, although not specifically in a school system. While he meets the desired education level, his experience in a related field is not specified. Overall, Kevin demonstrates a good fit for the role, but there are some areas where he falls short of the desired qualifications.'}"
      ]
     },
     "execution_count": 26,
     "metadata": {},
     "output_type": "execute_result"
    }
   ],
   "source": [
    "output_dict"
   ]
  },
  {
   "cell_type": "code",
   "execution_count": 29,
   "id": "6da16f49-79cb-4adc-aadd-9e3277e8cba3",
   "metadata": {},
   "outputs": [],
   "source": [
    "relevant_experience = output_dict.get('relevant_experience', 'unknown')\n",
    "relevant_skills = output_dict.get('relevant_skills', 'unknown')\n",
    "relevant_education = output_dict.get('relevant_education', 'unknown')\n",
    "candidate_score = output_dict.get('candidate_score', 'unknown')\n",
    "score_justification = output_dict.get('score_justification', 'unknown')"
   ]
  },
  {
   "cell_type": "code",
   "execution_count": 31,
   "id": "5d0d0c9f-3189-4dd8-8c6e-5526f0bf9e6c",
   "metadata": {},
   "outputs": [
    {
     "name": "stdout",
     "output_type": "stream",
     "text": [
      "7 The candidate has relevant experience in technical sales and recruiting, as well as a relevant educational background. They possess a variety of skills that align with the desired qualifications. However, they do not have specific experience in school systems, which lowers their score slightly.\n"
     ]
    }
   ],
   "source": [
    "print(candidate_score, score_justification)"
   ]
  },
  {
   "cell_type": "code",
   "execution_count": 41,
   "id": "45193937-9e96-4d5d-96a3-af76ea65414f",
   "metadata": {},
   "outputs": [
    {
     "name": "stdout",
     "output_type": "stream",
     "text": [
      "Collecting comtypes\n",
      "  Downloading comtypes-1.2.1-py2.py3-none-any.whl.metadata (3.8 kB)\n",
      "Downloading comtypes-1.2.1-py2.py3-none-any.whl (184 kB)\n",
      "   ---------------------------------------- 0.0/184.9 kB ? eta -:--:--\n",
      "   ---------------------------------------- 184.9/184.9 kB 5.6 MB/s eta 0:00:00\n",
      "Installing collected packages: comtypes\n",
      "Successfully installed comtypes-1.2.1\n",
      "Note: you may need to restart the kernel to use updated packages.\n"
     ]
    }
   ],
   "source": [
    "%pip install comtypes"
   ]
  },
  {
   "cell_type": "code",
   "execution_count": 1,
   "id": "c5aee7d0-6b5b-4560-b086-99240f92b0f7",
   "metadata": {},
   "outputs": [],
   "source": []
  },
  {
   "cell_type": "code",
   "execution_count": 9,
   "id": "fa4875c4-5934-4a8c-a426-8322e4029578",
   "metadata": {},
   "outputs": [],
   "source": []
  },
  {
   "cell_type": "code",
   "execution_count": 11,
   "id": "5deee3b7-753a-46ac-b25c-9713c47af0de",
   "metadata": {},
   "outputs": [
    {
     "name": "stdout",
     "output_type": "stream",
     "text": [
      "Collecting docx2txt\n",
      "  Downloading docx2txt-0.8.tar.gz (2.8 kB)\n",
      "  Installing build dependencies: started\n",
      "  Installing build dependencies: finished with status 'done'\n",
      "  Getting requirements to build wheel: started\n",
      "  Getting requirements to build wheel: finished with status 'done'\n",
      "  Preparing metadata (pyproject.toml): started\n",
      "  Preparing metadata (pyproject.toml): finished with status 'done'\n",
      "Building wheels for collected packages: docx2txt\n",
      "  Building wheel for docx2txt (pyproject.toml): started\n",
      "  Building wheel for docx2txt (pyproject.toml): finished with status 'done'\n",
      "  Created wheel for docx2txt: filename=docx2txt-0.8-py3-none-any.whl size=3972 sha256=64817549fb2f08cf39eba9a91e69def5f41106d68baa14f95836280bf60b6a36\n",
      "  Stored in directory: c:\\users\\johan\\appdata\\local\\pip\\cache\\wheels\\22\\58\\cf\\093d0a6c3ecfdfc5f6ddd5524043b88e59a9a199cb02352966\n",
      "Successfully built docx2txt\n",
      "Installing collected packages: docx2txt\n",
      "Successfully installed docx2txt-0.8\n",
      "Note: you may need to restart the kernel to use updated packages.\n"
     ]
    }
   ],
   "source": [
    "%pip install docx2txt"
   ]
  },
  {
   "cell_type": "code",
   "execution_count": 41,
   "id": "8b0b4b21-dbf7-4a9f-89ed-5a1a2dd061dc",
   "metadata": {},
   "outputs": [],
   "source": [
    "def process_resume(resume, chat, output_parser, template_string, format_instructions, desired_education, desired_experience, desired_skills, job_description):\n",
    "\n",
    "    # results_experience = []\n",
    "    # results_skills = []\n",
    "    # results_education = []\n",
    "    # results_score = []\n",
    "    # results_justification = []\n",
    "    \n",
    "    prompt = ChatPromptTemplate.from_template(template=template_string)\n",
    "    messages = prompt.format_messages(resume = resume, \n",
    "                                      desired_education=desired_education, \n",
    "                                      desired_experience=desired_experience,\n",
    "                                      desired_skills = desired_skills,\n",
    "                                      job_description=job_description, \n",
    "                                      format_instructions=format_instructions)\n",
    "    \n",
    "    response = chat(messages)\n",
    "    output_dict = output_parser.parse(response.content)\n",
    "    candidate_name = output_dict.get('name', 'unknown')\n",
    "    candidate_contact = output_dict.get('contact', 'unknown')\n",
    "    relevant_experience = output_dict.get('relevant_experience', 'unknown')\n",
    "    relevant_skills = output_dict.get('relevant_skills', 'unknown')\n",
    "    relevant_education = output_dict.get('relevant_education', 'unknown')\n",
    "    candidate_score = output_dict.get('candidate_score', 'unknown')\n",
    "    score_justification = output_dict.get('score_justification', 'unknown')\n",
    "\n",
    "\n",
    "    return candidate_name, candidate_contact, relevant_experience, relevant_skills, relevant_education, candidate_score, score_justification\n",
    "\n",
    "    "
   ]
  },
  {
   "cell_type": "code",
   "execution_count": 33,
   "id": "ad925b24-916b-4754-8674-fc513e583974",
   "metadata": {},
   "outputs": [
    {
     "name": "stderr",
     "output_type": "stream",
     "text": [
      "C:\\Users\\johan\\virtual_environments\\open_ai\\lib\\site-packages\\langchain_core\\_api\\deprecation.py:117: LangChainDeprecationWarning: The function `__call__` was deprecated in LangChain 0.1.7 and will be removed in 0.2.0. Use invoke instead.\n",
      "  warn_deprecated(\n"
     ]
    }
   ],
   "source": [
    "relevant_experience, relevant_skills, relevant_education, candidate_score, score_justification = process_resume(resume = resume,\n",
    "                                                                                                                chat = chat,\n",
    "                                                                                                                output_parser = output_parser, \n",
    "                                                                                                                template_string = template_string, \n",
    "                                                                                                                format_instructions = format_instructions)"
   ]
  },
  {
   "cell_type": "code",
   "execution_count": 34,
   "id": "d087308b-0625-47ce-9a85-17bc4c5c9cbf",
   "metadata": {},
   "outputs": [
    {
     "name": "stdout",
     "output_type": "stream",
     "text": [
      "7 The candidate has relevant experience in business development, acquisitions, and underwriting, which aligns with the desired skills/experience. However, there is no mention of experience in school systems or recruiting. Therefore, the candidate receives a score of 7, indicating a good fit but not a perfect match.\n"
     ]
    }
   ],
   "source": [
    "print(candidate_score, score_justification)"
   ]
  },
  {
   "cell_type": "code",
   "execution_count": 42,
   "id": "642067f0-1a8e-4f8a-b497-e483e8f391dc",
   "metadata": {},
   "outputs": [],
   "source": [
    "def process_folder(resume_directory, chat, output_parser, template_string, format_instructions, desired_education, desired_experience, desired_skills, job_description):\n",
    "    # I need this to go through the list of files, check if it is doc or pdf, load text accordingly, create the\n",
    "    # resume object, and pass it to process resume, using the returned values to populate the results df.\n",
    "    results = {\n",
    "        'file': [],\n",
    "        'name': [],\n",
    "        'contact':[],\n",
    "        'experience': [],\n",
    "        'skills': [],\n",
    "        'education': [],\n",
    "        'score': [],\n",
    "        'justification': []\n",
    "    }\n",
    "    total_remaining = len(os.listdir(resume_directory))\n",
    "    for filename in os.listdir(resume_directory):\n",
    "        filepath = os.path.join(resume_directory, filename)\n",
    "        if filename.endswith('.docx'):\n",
    "            loader = Docx2txtLoader(filepath)\n",
    "            resume = loader.load()\n",
    "        elif filename.endswith('.pdf'):\n",
    "            loader = PyPDFLoader(filepath)\n",
    "            resume = loader.load_and_split()\n",
    "        else:\n",
    "            print(f\"Unsupported file format for {filename}. Skipping.\")\n",
    "            continue\n",
    "        \n",
    "        name, contact, experience, skills, education, score, justification = process_resume(\n",
    "            resume, chat, output_parser, template_string, format_instructions, \n",
    "            desired_education, desired_experience, desired_skills, job_description\n",
    "        )\n",
    "        results['file'].append(filename)\n",
    "        results['name'].append(name)\n",
    "        results['contact'].append(contact)\n",
    "        results['experience'].append(experience)\n",
    "        results['skills'].append(skills)\n",
    "        results['education'].append(education)\n",
    "        results['score'].append(score)\n",
    "        results['justification'].append(justification)\n",
    "        total_remaining -= 1\n",
    "        print(total_remaining)\n",
    "\n",
    "    results_df = pd.DataFrame(results)\n",
    "    return results_df"
   ]
  },
  {
   "cell_type": "code",
   "execution_count": 46,
   "id": "db470fb9-b0e2-4b0e-8604-9073ce21c9a2",
   "metadata": {},
   "outputs": [
    {
     "name": "stdout",
     "output_type": "stream",
     "text": [
      "3\n",
      "2\n",
      "1\n",
      "0\n",
      "Tokens Used: 9140\n",
      "\tPrompt Tokens: 8081\n",
      "\tCompletion Tokens: 1059\n",
      "Successful Requests: 4\n",
      "Total Cost (USD): $0.0142395\n"
     ]
    }
   ],
   "source": [
    "resume_directory = \"small_test\"\n",
    "with get_openai_callback() as cb:\n",
    "    result_df = process_folder(resume_directory, chat, output_parser, template_string, format_instructions, desired_education, desired_experience, desired_skills, job_description)\n",
    "    print(cb)"
   ]
  },
  {
   "cell_type": "code",
   "execution_count": 47,
   "id": "c4867588-a072-4f22-badf-67e672942a93",
   "metadata": {},
   "outputs": [
    {
     "data": {
      "text/html": [
       "<div>\n",
       "<style scoped>\n",
       "    .dataframe tbody tr th:only-of-type {\n",
       "        vertical-align: middle;\n",
       "    }\n",
       "\n",
       "    .dataframe tbody tr th {\n",
       "        vertical-align: top;\n",
       "    }\n",
       "\n",
       "    .dataframe thead th {\n",
       "        text-align: right;\n",
       "    }\n",
       "</style>\n",
       "<table border=\"1\" class=\"dataframe\">\n",
       "  <thead>\n",
       "    <tr style=\"text-align: right;\">\n",
       "      <th></th>\n",
       "      <th>file</th>\n",
       "      <th>name</th>\n",
       "      <th>contact</th>\n",
       "      <th>experience</th>\n",
       "      <th>skills</th>\n",
       "      <th>education</th>\n",
       "      <th>score</th>\n",
       "      <th>justification</th>\n",
       "    </tr>\n",
       "  </thead>\n",
       "  <tbody>\n",
       "    <tr>\n",
       "      <th>0</th>\n",
       "      <td>Ann_Marquez_resumeExecAsstDEC23 (1).pdf</td>\n",
       "      <td>Ann L. Marquez</td>\n",
       "      <td>annmarquez106@gmail.com</td>\n",
       "      <td>Bilingual administrative professional with ove...</td>\n",
       "      <td>Travel &amp; Calendar Management, Administrative S...</td>\n",
       "      <td>B.A. - Spanish Translation /Minor - Communicat...</td>\n",
       "      <td>7</td>\n",
       "      <td>Ann L. Marquez has relevant experience in admi...</td>\n",
       "    </tr>\n",
       "    <tr>\n",
       "      <th>1</th>\n",
       "      <td>Leyla_Beydoun_Resume__1_.pdf</td>\n",
       "      <td>Leyla Beydoun</td>\n",
       "      <td>leylabey@gmail.com</td>\n",
       "      <td>Associate Recruiter at Creative Marketing + Re...</td>\n",
       "      <td>Recruitment marketing, digital marketing, dire...</td>\n",
       "      <td>B.F.A. Theater Performance from The University...</td>\n",
       "      <td>7</td>\n",
       "      <td>Leyla has relevant experience as an Associate ...</td>\n",
       "    </tr>\n",
       "    <tr>\n",
       "      <th>2</th>\n",
       "      <td>Resume (1).docx</td>\n",
       "      <td>Rasiel Freija</td>\n",
       "      <td>rfreija1@gmail.com</td>\n",
       "      <td>Business Development Associate at ZRG Partners...</td>\n",
       "      <td>Marketing, sales, operations, business develop...</td>\n",
       "      <td>Bachelor of Science in Criminal Justice</td>\n",
       "      <td>7</td>\n",
       "      <td>Rasiel has relevant experience as a Business D...</td>\n",
       "    </tr>\n",
       "    <tr>\n",
       "      <th>3</th>\n",
       "      <td>Resume (1).pdf</td>\n",
       "      <td>Kevin J. Grimes</td>\n",
       "      <td>kjgrimes@alaska.edu</td>\n",
       "      <td>University of Alaska Fairbanks Office of Admis...</td>\n",
       "      <td>Data entry, communication, content creation, s...</td>\n",
       "      <td>University of Alaska Fairbanks, Occupational E...</td>\n",
       "      <td>7</td>\n",
       "      <td>Kevin has relevant experience in communication...</td>\n",
       "    </tr>\n",
       "  </tbody>\n",
       "</table>\n",
       "</div>"
      ],
      "text/plain": [
       "                                      file             name  \\\n",
       "0  Ann_Marquez_resumeExecAsstDEC23 (1).pdf   Ann L. Marquez   \n",
       "1             Leyla_Beydoun_Resume__1_.pdf    Leyla Beydoun   \n",
       "2                          Resume (1).docx    Rasiel Freija   \n",
       "3                           Resume (1).pdf  Kevin J. Grimes   \n",
       "\n",
       "                   contact                                         experience  \\\n",
       "0  annmarquez106@gmail.com  Bilingual administrative professional with ove...   \n",
       "1       leylabey@gmail.com  Associate Recruiter at Creative Marketing + Re...   \n",
       "2       rfreija1@gmail.com  Business Development Associate at ZRG Partners...   \n",
       "3      kjgrimes@alaska.edu  University of Alaska Fairbanks Office of Admis...   \n",
       "\n",
       "                                              skills  \\\n",
       "0  Travel & Calendar Management, Administrative S...   \n",
       "1  Recruitment marketing, digital marketing, dire...   \n",
       "2  Marketing, sales, operations, business develop...   \n",
       "3  Data entry, communication, content creation, s...   \n",
       "\n",
       "                                           education score  \\\n",
       "0  B.A. - Spanish Translation /Minor - Communicat...     7   \n",
       "1  B.F.A. Theater Performance from The University...     7   \n",
       "2            Bachelor of Science in Criminal Justice     7   \n",
       "3  University of Alaska Fairbanks, Occupational E...     7   \n",
       "\n",
       "                                       justification  \n",
       "0  Ann L. Marquez has relevant experience in admi...  \n",
       "1  Leyla has relevant experience as an Associate ...  \n",
       "2  Rasiel has relevant experience as a Business D...  \n",
       "3  Kevin has relevant experience in communication...  "
      ]
     },
     "execution_count": 47,
     "metadata": {},
     "output_type": "execute_result"
    }
   ],
   "source": [
    "result_df"
   ]
  },
  {
   "cell_type": "code",
   "execution_count": 23,
   "id": "6662a456-70f6-4d12-812a-028e1011646f",
   "metadata": {},
   "outputs": [],
   "source": [
    "result_df.to_csv(\"test_output.csv\")"
   ]
  },
  {
   "cell_type": "code",
   "execution_count": 50,
   "id": "48835c63-4857-401b-aa38-f46de51208c7",
   "metadata": {},
   "outputs": [
    {
     "name": "stdout",
     "output_type": "stream",
     "text": [
      "                                      file             name  \\\n",
      "0  Ann_Marquez_resumeExecAsstDEC23 (1).pdf   Ann L. Marquez   \n",
      "1             Leyla_Beydoun_Resume__1_.pdf    Leyla Beydoun   \n",
      "2                          Resume (1).docx    Rasiel Freija   \n",
      "3                           Resume (1).pdf  Kevin J. Grimes   \n",
      "\n",
      "                   contact                                         experience  \\\n",
      "0  annmarquez106@gmail.com  Bilingual administrative professional with ove...   \n",
      "1       leylabey@gmail.com  Associate Recruiter at Creative Marketing + Re...   \n",
      "2       rfreija1@gmail.com  Business Development Associate at ZRG Partners...   \n",
      "3      kjgrimes@alaska.edu  University of Alaska Fairbanks Office of Admis...   \n",
      "\n",
      "                                              skills  \\\n",
      "0  Travel & Calendar Management, Administrative S...   \n",
      "1  Recruitment marketing, digital marketing, dire...   \n",
      "2  Marketing, sales, operations, business develop...   \n",
      "3  Data entry, communication, content creation, s...   \n",
      "\n",
      "                                           education score  \\\n",
      "0  B.A. - Spanish Translation /Minor - Communicat...     7   \n",
      "1  B.F.A. Theater Performance from The University...     7   \n",
      "2            Bachelor of Science in Criminal Justice     7   \n",
      "3  University of Alaska Fairbanks, Occupational E...     7   \n",
      "\n",
      "                                       justification  \n",
      "0  Ann L. Marquez has relevant experience in admi...  \n",
      "1  Leyla has relevant experience as an Associate ...  \n",
      "2  Rasiel has relevant experience as a Business D...  \n",
      "3  Kevin has relevant experience in communication...  \n"
     ]
    }
   ],
   "source": [
    "print(result_df)"
   ]
  },
  {
   "cell_type": "code",
   "execution_count": null,
   "id": "94a61541-4d2f-4df3-8719-b3f3e5f0adde",
   "metadata": {},
   "outputs": [],
   "source": []
  }
 ],
 "metadata": {
  "kernelspec": {
   "display_name": "open_ai",
   "language": "python",
   "name": "open_ai"
  },
  "language_info": {
   "codemirror_mode": {
    "name": "ipython",
    "version": 3
   },
   "file_extension": ".py",
   "mimetype": "text/x-python",
   "name": "python",
   "nbconvert_exporter": "python",
   "pygments_lexer": "ipython3",
   "version": "3.10.2"
  }
 },
 "nbformat": 4,
 "nbformat_minor": 5
}
